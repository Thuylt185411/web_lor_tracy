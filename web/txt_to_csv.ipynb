{
 "cells": [
  {
   "cell_type": "code",
   "execution_count": null,
   "metadata": {
    "ExecuteTime": {
     "end_time": "2024-12-20T08:48:01.045056Z",
     "start_time": "2024-12-20T08:48:01.024094Z"
    }
   },
   "outputs": [],
   "source": [
    "str = '''beat\t The Nationalists were narrowly <b>beat</b>en in the election.\t\"<img alt=\"\"Thẻ ghi nhớ: B1-Vocabulary-Unit 3: Fun and Games | Quizlet\"\" src=\"\"https://o.quizlet.com/GYO2voW7dnEREqlRa-lvoA.jpg\"\">\"\t\t\"\n",
    "            <span class=\"\"pos\"\">verb</span> <span class=\"\"word-level\"\">B1</span> <span class=\"\"usage-info\"\">informal, slang</span><br><span class=\"\"tran\"\"><span class=\"\"eng_tran\"\">to defeat or do better than</span></span><ul class=\"\"sents\"\"><li class=\"\"sent\"\"><span class=\"\"eng_sent\"\">Simon always <b>beat</b>s me at tennis.</span></li><li class=\"\"sent\"\"><span class=\"\"eng_sent\"\">The Miami Heat <b>beat</b> the Pacers by five points, 95-90.</span></li></ul>\"\tUK[biːt] US[biːt] \t[sound:cambridgeee-5651c291-8cbaf756-5236bb3d-6b11a044-00f4c243.mp3]\t[sound:ODH_enen_Cambridge_beat_1.mp3]\t\tCôMaingoEnglish\n",
    "board game\tThey enjoy playing <b>board</b> <b>game</b>s on weekends.\t\"<img src=\"\"https://o.quizlet.com/ZqfeNrcQR8n39rvgUb8FXA.png\"\">\"\t\t\"\n",
    "<span class=\"\"pos\"\">noun [ C ]</span> <span class=\"\"word-level\"\">A2</span><br/><span class=\"\"tran\"\"><span class=\"\"eng_tran\"\">any of many games, for example chess, in which small pieces are moved around on a board with a pattern on it</span></span>\"\tUK[ˈbɔːd ˌɡeɪm] US[ˈbɔːrd ˌɡeɪm] \t[sound:cambridgeee-079bfd78-43bb9622-8eea88fd-33b06fc6-15ad863e.mp3]\t[sound:ODH_enen_Cambridge_board%20game_1.mp3]\t\tCôMaingoEnglish\n",
    "captain\tThe <b>captain</b> led his team to victory.\t\"<img alt=\"\"Want Your Team To Be Atop The Leader Board? Follow The Leader!\"\" src=\"\"blog-50-main.jpeg\"\">\"\t\t\"\n",
    "            <span class=\"\"pos\"\">noun</span> <span class=\"\"word-level\"\">B1</span><br><span class=\"\"tran\"\"><span class=\"\"eng_tran\"\">the leader of a sports team</span></span><ul class=\"\"sents\"\"><li class=\"\"sent\"\"><span class=\"\"eng_sent\"\">It's unusual to have a goalkeeper as (the) <b>captain</b> of a football team.</span></li></ul>\"\tUK[ˈkæp.tɪn] US[ˈkæp.tən] \t[sound:cambridgeee-5d1f0009-277af0fa-b60675d9-106549bd-4dd656d6.mp3]\t[sound:ODH_enen_Cambridge_captain_1.mp3]\t\tCôMaingoEnglish\n",
    "\n",
    "'''\n",
    "a = str.split('\\t')\n",
    "a"
   ]
  },
  {
   "cell_type": "code",
   "execution_count": 52,
   "metadata": {
    "ExecuteTime": {
     "end_time": "2024-12-20T09:25:27.722240Z",
     "start_time": "2024-12-20T09:25:27.712177Z"
    }
   },
   "outputs": [],
   "source": [
    "import pandas as pd\n",
    "\n",
    "# Đọc tệp txt\n",
    "with open(r\"C:\\Users\\thuyl\\Downloads\\✔️ Destination B1__Unit 03_ Fun and games__Topic vocabulary.txt\", 'r', encoding='utf-8') as file:\n",
    "    content = file.read()\n",
    "\n",
    "    \n",
    "# Tách các mục bằng ký tự xuống dòng và phân tích cú pháp\n",
    "entries = [line.strip('\"').strip('\"').split('\\t') for line in content.split(\"\\n\") if line and not line.startswith('#')]\n",
    "\n",
    "\n",
    "# Khởi tạo danh sách để lưu trữ dữ liệu\n",
    "formatted_data = []\n",
    "# for entry in entries:\n",
    "#     print((len(entry)))\n",
    "# Sử dụng zip để kết hợp các mục từ và định nghĩa\n",
    "for entry in entries:\n",
    "    if entry[0].strip()[0].isalpha():\n",
    "        entry_1 = []\n",
    "        entry_1.extend([x.strip().strip('\"').replace('\"\"','\"') for x in entry])\n",
    "    else:\n",
    "        entry_1.extend([x.strip().strip('\"') for x in entry])\n",
    "    formatted_data.append(entry_1)\n",
    "\n",
    "# for entry in zip(entries[::2], entries[1::2]):\n",
    "#     entry_1 = []\n",
    "#     print([entry[0][0], entry[1][0]])\n",
    "#     entry_1.extend([x.strip() for x in entry[0]])\n",
    "#     entry_1.extend([x.strip() for x in entry[1]])# Lấy cặp mục từ và định ng\n",
    "#     formatted_data.append(entry_1)   # Mục định nghĩa\n"
   ]
  },
  {
   "cell_type": "code",
   "execution_count": null,
   "metadata": {
    "ExecuteTime": {
     "end_time": "2024-12-20T09:25:28.841270Z",
     "start_time": "2024-12-20T09:25:28.825104Z"
    }
   },
   "outputs": [],
   "source": [
    "formatted_data"
   ]
  },
  {
   "cell_type": "code",
   "execution_count": null,
   "metadata": {
    "ExecuteTime": {
     "end_time": "2024-12-20T09:25:29.506313Z",
     "start_time": "2024-12-20T09:25:29.488160Z"
    }
   },
   "outputs": [],
   "source": [
    "entries"
   ]
  },
  {
   "cell_type": "code",
   "execution_count": null,
   "metadata": {
    "ExecuteTime": {
     "end_time": "2024-12-20T09:25:30.344692Z",
     "start_time": "2024-12-20T09:25:30.330216Z"
    }
   },
   "outputs": [],
   "source": [
    "columns = [f'Field {i + 1}' for i in range(11)]\n",
    "df = pd.DataFrame(formatted_data, columns=columns)\n",
    "df\n"
   ]
  },
  {
   "cell_type": "code",
   "execution_count": null,
   "metadata": {
    "ExecuteTime": {
     "end_time": "2024-12-16T04:53:43.395830Z",
     "start_time": "2024-12-16T04:53:43.375875Z"
    }
   },
   "outputs": [],
   "source": [
    "formatted_data"
   ]
  },
  {
   "cell_type": "code",
   "execution_count": null,
   "metadata": {
    "ExecuteTime": {
     "end_time": "2024-12-16T04:29:21.904291Z",
     "start_time": "2024-12-16T04:29:21.884358Z"
    }
   },
   "outputs": [],
   "source": [
    "df"
   ]
  },
  {
   "cell_type": "code",
   "execution_count": null,
   "metadata": {
    "ExecuteTime": {
     "end_time": "2024-12-16T05:01:01.143381Z",
     "start_time": "2024-12-16T05:01:01.122029Z"
    }
   },
   "outputs": [],
   "source": [
    "'''hemiplegia\tAfter his stroke, the patient was diagnosed with <b>hemiplegia</b> and couldn’t move his left side.\t\t\t\"\n",
    "<span class=\"\"pos\"\">noun [ U ]</span><br/><span class=\"\"tran\"\"><span class=\"\"eng_tran\"\">loss of the ability to move or feel one side of the body:</span></span><ul class=\"\"sents\"\"><li class=\"\"sent\"\"><span class=\"\"eng_sent\"\">He was left with <b>hemiplegia</b> on his right side following a stroke.</span></li><li class=\"\"sent\"\"><span class=\"\"eng_sent\"\">A lesion on the brain had resulted in <b>hemiplegia</b>.</span></li></ul>\"\tUK[ˌhem.ɪˈpliː.dʒə] US[ˌhem.ɪˈpliː.dʒə] \t\t\n",
    "semicircle\tWe sat in a <b>semicircle</b> around the teacher for storytime.\t\t\t\"\n",
    "            <span class='pos'>noun [ C usually singular ]</span><br><span class='tran'><span class='eng_tran'>half a circle</span></span><ul class=\"\"sents\"\"><li class='sent'><span class='eng_sent'>We arranged the chairs in a <b>semicircle</b>.</span></li></ul>\"\tUK[ˈsem.iˌsɜː.kəl] US[ˈsem.iˌsɝː.kəl] \t[sound:ODH_enen_Cambridge_semicircle_0.mp3]\t\n",
    "semi-professional\tHe plays the guitar in a <b>semiprofessional</b> band on weekends.\t\t\t\"\n",
    "            <span class='pos'>adjective</span><br><span class='tran'><span class='eng_tran'>People who are <b>semi-professional</b> are paid for an activity that they take part in but do not do all the time.</span></span><ul class=\"\"sents\"\"><li class='sent'><span class='eng_sent'><b>semi-professional</b> musicians/athletes</span></li></ul>\"\tUK[ˌsem.i.prəˈfeʃ.ən.əl] US[ˌsem.i.prəˈfeʃ.ən.əl] \t[sound:ODH_enen_Cambridge_semi-professional_0.mp3]\t\n",
    "semifinal\tThey reached a <b>semifinal</b> match, just one step away from the final game.\t\t\t\"\n",
    "            <span class='pos'>noun [ C usually plural ]</span> <span class='word-level'>B2</span><br><span class='tran'><span class='eng_tran'>one of the two games that are played to decide who will take part in the final game of a competition</span></span><ul class=\"\"sents\"\"><li class='sent'><span class='eng_sent'>Who's in the <b>semifinal</b>s?</span></li><li class='sent'><span class='eng_sent'>She's the youngest player ever to get through to/advance to a <b>semifinal</b>.</span></li></ul>\"\tUK[ˌsem.iˈfaɪ.nəl] US[ˌsem.iˈfaɪ.nəl] \t[sound:ODH_enen_Cambridge_semifinal_0.mp3]\t\n",
    "semi-darkness'''"
   ]
  },
  {
   "cell_type": "code",
   "execution_count": null,
   "metadata": {
    "ExecuteTime": {
     "end_time": "2024-12-16T05:13:39.110574Z",
     "start_time": "2024-12-16T05:13:39.103402Z"
    }
   },
   "outputs": [],
   "source": [
    "a = '''\n",
    "'semisweet chocolate', 'I prefer <b>semisweet</b> <b>chocolate</b> because it’s not too sugary.', '', '', '\"', \"            <span class=\"pos\">noun [ U ]</span><br><span class=\"tran\"><span class=\"eng_tran\">→&nbsp;\n",
    "              dark chocolate</span>\"', 'UK[sem.iˌswiːt ˈtʃɒk.lət] US[sem.iˌswiːt ˈtʃɑːk.lət] ', '[sound:ODH_enen_Cambridge_semisweet%20chocolate_0.mp3]'\n",
    "'''\n",
    "a.split(',')"
   ]
  },
  {
   "cell_type": "code",
   "execution_count": null,
   "metadata": {},
   "outputs": [],
   "source": []
  }
 ],
 "metadata": {
  "kernelspec": {
   "display_name": "Python 3",
   "language": "python",
   "name": "python3"
  },
  "language_info": {
   "codemirror_mode": {
    "name": "ipython",
    "version": 3
   },
   "file_extension": ".py",
   "mimetype": "text/x-python",
   "name": "python",
   "nbconvert_exporter": "python",
   "pygments_lexer": "ipython3",
   "version": "3.10.11"
  }
 },
 "nbformat": 4,
 "nbformat_minor": 2
}
