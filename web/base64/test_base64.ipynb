{
 "cells": [
  {
   "cell_type": "code",
   "id": "initial_id",
   "metadata": {
    "collapsed": true,
    "ExecuteTime": {
     "end_time": "2025-01-16T15:10:10.617571Z",
     "start_time": "2025-01-16T15:10:10.607057Z"
    }
   },
   "source": "import base64",
   "outputs": [],
   "execution_count": 4
  },
  {
   "metadata": {
    "ExecuteTime": {
     "end_time": "2025-01-16T15:15:07.026838Z",
     "start_time": "2025-01-16T15:15:07.017331Z"
    }
   },
   "cell_type": "code",
   "source": [
    "with open('audio_test.txt', 'r') as f:\n",
    "    base = f.read()"
   ],
   "id": "a05f757ce2c8b9d1",
   "outputs": [],
   "execution_count": 14
  },
  {
   "metadata": {
    "ExecuteTime": {
     "end_time": "2025-01-16T15:14:35.440817Z",
     "start_time": "2025-01-16T15:14:35.431598Z"
    }
   },
   "cell_type": "code",
   "source": [
    "if base.startswith('<audio src=\"data:audio/mpeg;base64,'):\n",
    "    base64_audio = base.split(\",\")[1]\n",
    "\n",
    "# Decode the Base64 string\n",
    "audio_data = base64.b64decode(base64_audio)\n",
    "\n",
    "# Save the decoded audio to a file\n",
    "with open(\"output_audio.mp3\", \"wb\") as audio_file:\n",
    "    audio_file.write(audio_data)\n",
    "\n",
    "print(\"Audio file saved as 'output_audio.mp3'\")"
   ],
   "id": "64875b43cba94235",
   "outputs": [
    {
     "name": "stdout",
     "output_type": "stream",
     "text": [
      "Audio file saved as 'output_audio.mp3'\n"
     ]
    }
   ],
   "execution_count": 13
  },
  {
   "metadata": {},
   "cell_type": "code",
   "outputs": [],
   "execution_count": null,
   "source": "",
   "id": "dd84e72db7c87b59"
  },
  {
   "metadata": {},
   "cell_type": "code",
   "outputs": [],
   "execution_count": null,
   "source": "base.decode()",
   "id": "1c833479ecc76064"
  }
 ],
 "metadata": {
  "kernelspec": {
   "display_name": "Python 3",
   "language": "python",
   "name": "python3"
  },
  "language_info": {
   "codemirror_mode": {
    "name": "ipython",
    "version": 2
   },
   "file_extension": ".py",
   "mimetype": "text/x-python",
   "name": "python",
   "nbconvert_exporter": "python",
   "pygments_lexer": "ipython2",
   "version": "2.7.6"
  }
 },
 "nbformat": 4,
 "nbformat_minor": 5
}
