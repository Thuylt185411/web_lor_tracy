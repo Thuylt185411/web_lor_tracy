{
 "cells": [
  {
   "metadata": {
    "ExecuteTime": {
     "end_time": "2024-12-19T19:51:30.136953Z",
     "start_time": "2024-12-19T19:51:29.661527Z"
    }
   },
   "cell_type": "code",
   "source": "from backend import search_youglish",
   "id": "c7c0d49eaa15d97f",
   "outputs": [],
   "execution_count": 1
  },
  {
   "metadata": {
    "ExecuteTime": {
     "end_time": "2024-12-20T07:42:36.562011Z",
     "start_time": "2024-12-20T07:42:36.550789Z"
    }
   },
   "cell_type": "code",
   "source": [
    "import pandas as pd\n",
    "from selenium import webdriver\n",
    "from selenium.webdriver.chrome.options import Options\n",
    "from selenium.webdriver.common.by import By\n",
    "from bs4 import BeautifulSoup\n",
    "import time\n",
    "import random"
   ],
   "id": "8ab0abb67b440f04",
   "outputs": [],
   "execution_count": 5
  },
  {
   "metadata": {
    "ExecuteTime": {
     "end_time": "2024-12-20T07:44:32.544012Z",
     "start_time": "2024-12-20T07:44:32.539182Z"
    }
   },
   "cell_type": "code",
   "source": "# !pip install fake-useragent",
   "id": "9eb5e680f5823e43",
   "outputs": [],
   "execution_count": 7
  },
  {
   "cell_type": "code",
   "id": "initial_id",
   "metadata": {
    "collapsed": true,
    "ExecuteTime": {
     "end_time": "2024-12-20T08:04:44.450965Z",
     "start_time": "2024-12-20T08:04:30.494174Z"
    }
   },
   "source": [
    "from fake_useragent import UserAgent\n",
    "\n",
    "ua = UserAgent()\n",
    "user_agent = ua.random\n",
    "\n",
    "chrome_options = Options()\n",
    "# chrome_options.add_argument(\"--headless=new\")\n",
    "chrome_options.add_argument(\"--disable-notifications\")\n",
    "chrome_options.add_argument(\"--disable-popup-blocking\")\n",
    "chrome_options.add_argument(\"--disable-infobars\")\n",
    "chrome_options.add_argument(\"--disable-extensions\")\n",
    "chrome_options.add_argument(f'user-agent={user_agent}')\n",
    "word = ('%20').join('computer hello'.split(' '))\n",
    "browser = webdriver.Chrome(options=chrome_options)\n",
    "print(word)\n",
    "browser.get(f\"https://youglish.com/pronounce/{word}/english\")\n",
    "\n",
    "# Đợi và click nút View All\n",
    "time.sleep(random.uniform(5, 10))\n",
    "button_viewall = browser.find_element(By.CLASS_NAME, \"togglecaps\")\n",
    "button_viewall.click()\n"
   ],
   "outputs": [
    {
     "name": "stdout",
     "output_type": "stream",
     "text": [
      "computer\n"
     ]
    }
   ],
   "execution_count": 34
  },
  {
   "metadata": {
    "ExecuteTime": {
     "end_time": "2024-12-20T08:05:09.796052Z",
     "start_time": "2024-12-20T08:05:09.739293Z"
    }
   },
   "cell_type": "code",
   "source": [
    "# # time.sleep(10)\n",
    "source_code = browser.page_source\n",
    "soup = BeautifulSoup(source_code, 'html.parser')\n"
   ],
   "id": "4dd5b399237f0639",
   "outputs": [],
   "execution_count": 35
  },
  {
   "metadata": {
    "ExecuteTime": {
     "end_time": "2024-12-20T08:05:22.617424Z",
     "start_time": "2024-12-20T08:05:22.594343Z"
    }
   },
   "cell_type": "code",
   "source": [
    "video_info = soup.find('iframe', id='player')\n",
    "video_id = video_info.get('src').split('?')[0].split('/')[-1]\n",
    "video_title = video_info.get('title')\n",
    "caption = soup.find('div', id='r_caption')\n",
    "caption1 = (' ').join([cap.get_text() for cap in caption.findAll('span', class_='marker lg_0')])\n",
    "caption_raw = caption.get_text()\n",
    "print(caption_raw)\n",
    "print(caption1)\n",
    "print(caption.findAll('span', class_='marker lg_0'))\n",
    "if caption1 in caption_raw: \n",
    "    print(caption1)\n",
    "    cloze_sentence = caption.get_text().replace(caption1, f'<b>{caption1}</b>')\n",
    "    print(cloze_sentence)\n",
    "else:\n",
    "    for cap in caption.findAll('span', class_='marker lg_0'):\n",
    "        cap = cap.get_text()\n",
    "        cloze_sentence = caption_raw.replace(cap, f'<b>{cap}</b>')\n",
    "        caption_raw = cloze_sentence\n",
    "\n",
    "ac_current_cap = soup.find('li', class_='ac_current_cap')\n",
    "id_current = int(ac_current_cap.get('id').split('_')[-1])\n",
    "start_second = soup.find('li', id=f'ac_{id_current}').get('data-start')\n",
    "end_second = soup.find('li', id=f'ac_{str(id_current+1)}').get('data-start')\n"
   ],
   "id": "bf005475537a0ee3",
   "outputs": [],
   "execution_count": 36
  },
  {
   "metadata": {
    "ExecuteTime": {
     "end_time": "2024-12-20T08:05:24.188461Z",
     "start_time": "2024-12-20T08:05:24.170917Z"
    }
   },
   "cell_type": "code",
   "source": "cloze_sentence ,start_second,end_second ",
   "id": "f750dd99e1f97690",
   "outputs": [
    {
     "data": {
      "text/plain": [
       "(\"because at their core, they're just a data infrastructure.\", '273', '278')"
      ]
     },
     "execution_count": 37,
     "metadata": {},
     "output_type": "execute_result"
    }
   ],
   "execution_count": 37
  },
  {
   "metadata": {
    "ExecuteTime": {
     "end_time": "2024-12-19T19:56:19.873930Z",
     "start_time": "2024-12-19T19:55:56.350699Z"
    }
   },
   "cell_type": "code",
   "source": [
    "import pickle\n",
    "from selenium import webdriver\n",
    "import requests\n",
    "from bs4 import BeautifulSoup\n",
    "\n",
    "\n",
    "from selenium import webdriver\n",
    "from selenium.webdriver.chrome.options import Options\n",
    "\n",
    "# Thiết lập Chrome options\n",
    "chrome_options = Options()\n",
    "chrome_options.add_argument(\"--headless=new\")  # Chạy ở chế độ headless\n",
    "chrome_options.add_argument(\"--disable-notifications\")\n",
    "chrome_options.add_argument(\"--disable-popup-blocking\")\n",
    "chrome_options.add_argument(\"--disable-infobars\")\n",
    "chrome_options.add_argument(\"--disable-extensions\")\n",
    "\n",
    "# Khởi tạo browser với options\n",
    "browser = webdriver.Chrome(options=chrome_options)\n",
    "browser.get(\"https://youglish.com/pronounce/hello/english\")\n",
    "from selenium.webdriver.common.by import By\n",
    "import time\n",
    "time.sleep(10)\n",
    "button_viewall = browser.find_element(By.CLASS_NAME, \"togglecaps\")\n",
    "button_viewall.click()\n",
    "time.sleep(10)\n",
    "source_code = browser.page_source\n",
    "soup = BeautifulSoup(source_code, 'html.parser')\n",
    "video_info = soup.find('iframe', id='player')\n",
    "video_id = video_info.get('src').split('?')[0].split('/')[-1]\n",
    "video_title = video_info.get('title')\n",
    "caption = soup.find('div', id='r_caption')\n",
    "caption1 = caption.find('span', class_='marker lg_0').get_text()\n",
    "\n",
    "cloze_sentence = caption.get_text().replace(caption1, f'<b>{caption1}</b>')\n",
    "ac_current_cap = soup.find('li', class_='ac_current_cap')\n",
    "id_current = int(ac_current_cap.get('id').split('_')[-1])\n",
    "start_second = soup.find('li', id=f'ac_{id_current}').get('data-start')\n",
    "end_second = soup.find('li', id=f'ac_{str(id_current+1)}').get('data-start')\n"
   ],
   "id": "2af392fc06c36c51",
   "outputs": [],
   "execution_count": 9
  },
  {
   "metadata": {
    "ExecuteTime": {
     "end_time": "2024-12-19T19:19:56.534413Z",
     "start_time": "2024-12-19T19:19:56.527381Z"
    }
   },
   "cell_type": "code",
   "source": "",
   "id": "5061a456bb2a7495",
   "outputs": [],
   "execution_count": null
  },
  {
   "metadata": {
    "ExecuteTime": {
     "end_time": "2024-12-19T19:19:58.063799Z",
     "start_time": "2024-12-19T19:19:57.990202Z"
    }
   },
   "cell_type": "code",
   "source": [
    "\n",
    "\n"
   ],
   "id": "a9e10c7c660ff5ef",
   "outputs": [],
   "execution_count": 87
  },
  {
   "metadata": {
    "ExecuteTime": {
     "end_time": "2024-12-19T19:20:09.063291Z",
     "start_time": "2024-12-19T19:20:06.966912Z"
    }
   },
   "cell_type": "code",
   "source": "",
   "id": "548a7c0f826ad904",
   "outputs": [],
   "execution_count": 88
  },
  {
   "metadata": {
    "ExecuteTime": {
     "end_time": "2024-12-19T19:20:10.709334Z",
     "start_time": "2024-12-19T19:20:10.702836Z"
    }
   },
   "cell_type": "code",
   "source": [
    "\n",
    "video_title"
   ],
   "id": "5a38672266b72536",
   "outputs": [
    {
     "data": {
      "text/plain": [
       "'A sci-fi vision of love from a 318-year-old hologram | Monica Byrne'"
      ]
     },
     "execution_count": 89,
     "metadata": {},
     "output_type": "execute_result"
    }
   ],
   "execution_count": 89
  },
  {
   "metadata": {
    "ExecuteTime": {
     "end_time": "2024-12-19T19:20:11.908418Z",
     "start_time": "2024-12-19T19:20:11.887510Z"
    }
   },
   "cell_type": "code",
   "source": [
    "\n",
    "cloze_sentence"
   ],
   "id": "65f20deef6f33e29",
   "outputs": [
    {
     "data": {
      "text/plain": [
       "'and she, without saying <b>hello</b> or introducing herself or anything,'"
      ]
     },
     "execution_count": 90,
     "metadata": {},
     "output_type": "execute_result"
    }
   ],
   "execution_count": 90
  },
  {
   "metadata": {
    "ExecuteTime": {
     "end_time": "2024-12-19T19:20:14.370341Z",
     "start_time": "2024-12-19T19:20:14.358855Z"
    }
   },
   "cell_type": "code",
   "source": [
    "ac_current_cap = soup.find('li', class_='ac_current_cap')\n",
    "id_current = int(ac_current_cap.get('id').split('_')[-1])\n",
    "start_second = soup.find('li', id=f'ac_{id_current}').get('data-start')\n",
    "end_second = soup.find('li', id=f'ac_{str(id_current+1)}').get('data-start')\n",
    "start_second, end_second"
   ],
   "id": "96e86759783fb0e2",
   "outputs": [
    {
     "data": {
      "text/plain": [
       "('216', '220')"
      ]
     },
     "execution_count": 91,
     "metadata": {},
     "output_type": "execute_result"
    }
   ],
   "execution_count": 91
  },
  {
   "metadata": {
    "ExecuteTime": {
     "end_time": "2024-12-19T19:24:05.281861Z",
     "start_time": "2024-12-19T19:24:04.805652Z"
    }
   },
   "cell_type": "code",
   "source": [
    "from googletrans import Translator\n",
    "\n",
    "def get_translation(text):\n",
    "    try:\n",
    "        translator = Translator()\n",
    "        translation = translator.translate(text, src='en', dest='vi')\n",
    "        return translation.text\n",
    "    except Exception as e:\n",
    "        print(f\"Lỗi khi dịch: {e}\")\n",
    "        return None\n",
    "\n",
    "# Câu cần dịch\n",
    "cloze_sentence = 'and she, without saying hello or introducing herself or anything,'\n",
    "\n",
    "# Lấy bản dịch\n",
    "translation = get_translation(caption)\n",
    "print(f\"Bản dịch: {translation}\")"
   ],
   "id": "89939c9768bab9d",
   "outputs": [
    {
     "name": "stdout",
     "output_type": "stream",
     "text": [
      "Lỗi khi dịch: 'NoneType' object has no attribute 'group'\n",
      "Bản dịch: None\n"
     ]
    }
   ],
   "execution_count": 94
  },
  {
   "metadata": {
    "ExecuteTime": {
     "end_time": "2024-12-19T19:29:44.502395Z",
     "start_time": "2024-12-19T19:29:44.045081Z"
    }
   },
   "cell_type": "code",
   "source": [
    "translator = Translator(service_urls=[\n",
    "      'translate.google.com'])\n",
    "translator.raise_Exception = True\n",
    "translated = translator.translate('hello', src='en', dest='vi').text"
   ],
   "id": "d6a3c260976ab20",
   "outputs": [
    {
     "ename": "AttributeError",
     "evalue": "'NoneType' object has no attribute 'group'",
     "output_type": "error",
     "traceback": [
      "\u001B[1;31m---------------------------------------------------------------------------\u001B[0m",
      "\u001B[1;31mAttributeError\u001B[0m                            Traceback (most recent call last)",
      "Cell \u001B[1;32mIn[102], line 4\u001B[0m\n\u001B[0;32m      1\u001B[0m translator \u001B[38;5;241m=\u001B[39m Translator(service_urls\u001B[38;5;241m=\u001B[39m[\n\u001B[0;32m      2\u001B[0m       \u001B[38;5;124m'\u001B[39m\u001B[38;5;124mtranslate.google.com\u001B[39m\u001B[38;5;124m'\u001B[39m])\n\u001B[0;32m      3\u001B[0m translator\u001B[38;5;241m.\u001B[39mraise_Exception \u001B[38;5;241m=\u001B[39m \u001B[38;5;28;01mTrue\u001B[39;00m\n\u001B[1;32m----> 4\u001B[0m translated \u001B[38;5;241m=\u001B[39m \u001B[43mtranslator\u001B[49m\u001B[38;5;241;43m.\u001B[39;49m\u001B[43mtranslate\u001B[49m\u001B[43m(\u001B[49m\u001B[38;5;124;43m'\u001B[39;49m\u001B[38;5;124;43mhello\u001B[39;49m\u001B[38;5;124;43m'\u001B[39;49m\u001B[43m,\u001B[49m\u001B[43m \u001B[49m\u001B[43msrc\u001B[49m\u001B[38;5;241;43m=\u001B[39;49m\u001B[38;5;124;43m'\u001B[39;49m\u001B[38;5;124;43men\u001B[39;49m\u001B[38;5;124;43m'\u001B[39;49m\u001B[43m,\u001B[49m\u001B[43m \u001B[49m\u001B[43mdest\u001B[49m\u001B[38;5;241;43m=\u001B[39;49m\u001B[38;5;124;43m'\u001B[39;49m\u001B[38;5;124;43mvi\u001B[39;49m\u001B[38;5;124;43m'\u001B[39;49m\u001B[43m)\u001B[49m\u001B[38;5;241m.\u001B[39mtext\n",
      "File \u001B[1;32m~\\PycharmProjects\\base_env\\.venv\\lib\\site-packages\\googletrans\\client.py:182\u001B[0m, in \u001B[0;36mTranslator.translate\u001B[1;34m(self, text, dest, src, **kwargs)\u001B[0m\n\u001B[0;32m    179\u001B[0m     \u001B[38;5;28;01mreturn\u001B[39;00m result\n\u001B[0;32m    181\u001B[0m origin \u001B[38;5;241m=\u001B[39m text\n\u001B[1;32m--> 182\u001B[0m data \u001B[38;5;241m=\u001B[39m \u001B[38;5;28;43mself\u001B[39;49m\u001B[38;5;241;43m.\u001B[39;49m\u001B[43m_translate\u001B[49m\u001B[43m(\u001B[49m\u001B[43mtext\u001B[49m\u001B[43m,\u001B[49m\u001B[43m \u001B[49m\u001B[43mdest\u001B[49m\u001B[43m,\u001B[49m\u001B[43m \u001B[49m\u001B[43msrc\u001B[49m\u001B[43m,\u001B[49m\u001B[43m \u001B[49m\u001B[43mkwargs\u001B[49m\u001B[43m)\u001B[49m\n\u001B[0;32m    184\u001B[0m \u001B[38;5;66;03m# this code will be updated when the format is changed.\u001B[39;00m\n\u001B[0;32m    185\u001B[0m translated \u001B[38;5;241m=\u001B[39m \u001B[38;5;124m'\u001B[39m\u001B[38;5;124m'\u001B[39m\u001B[38;5;241m.\u001B[39mjoin([d[\u001B[38;5;241m0\u001B[39m] \u001B[38;5;28;01mif\u001B[39;00m d[\u001B[38;5;241m0\u001B[39m] \u001B[38;5;28;01melse\u001B[39;00m \u001B[38;5;124m'\u001B[39m\u001B[38;5;124m'\u001B[39m \u001B[38;5;28;01mfor\u001B[39;00m d \u001B[38;5;129;01min\u001B[39;00m data[\u001B[38;5;241m0\u001B[39m]])\n",
      "File \u001B[1;32m~\\PycharmProjects\\base_env\\.venv\\lib\\site-packages\\googletrans\\client.py:78\u001B[0m, in \u001B[0;36mTranslator._translate\u001B[1;34m(self, text, dest, src, override)\u001B[0m\n\u001B[0;32m     77\u001B[0m \u001B[38;5;28;01mdef\u001B[39;00m \u001B[38;5;21m_translate\u001B[39m(\u001B[38;5;28mself\u001B[39m, text, dest, src, override):\n\u001B[1;32m---> 78\u001B[0m     token \u001B[38;5;241m=\u001B[39m \u001B[38;5;28;43mself\u001B[39;49m\u001B[38;5;241;43m.\u001B[39;49m\u001B[43mtoken_acquirer\u001B[49m\u001B[38;5;241;43m.\u001B[39;49m\u001B[43mdo\u001B[49m\u001B[43m(\u001B[49m\u001B[43mtext\u001B[49m\u001B[43m)\u001B[49m\n\u001B[0;32m     79\u001B[0m     params \u001B[38;5;241m=\u001B[39m utils\u001B[38;5;241m.\u001B[39mbuild_params(query\u001B[38;5;241m=\u001B[39mtext, src\u001B[38;5;241m=\u001B[39msrc, dest\u001B[38;5;241m=\u001B[39mdest,\n\u001B[0;32m     80\u001B[0m                                 token\u001B[38;5;241m=\u001B[39mtoken, override\u001B[38;5;241m=\u001B[39moverride)\n\u001B[0;32m     82\u001B[0m     url \u001B[38;5;241m=\u001B[39m urls\u001B[38;5;241m.\u001B[39mTRANSLATE\u001B[38;5;241m.\u001B[39mformat(host\u001B[38;5;241m=\u001B[39m\u001B[38;5;28mself\u001B[39m\u001B[38;5;241m.\u001B[39m_pick_service_url())\n",
      "File \u001B[1;32m~\\PycharmProjects\\base_env\\.venv\\lib\\site-packages\\googletrans\\gtoken.py:194\u001B[0m, in \u001B[0;36mTokenAcquirer.do\u001B[1;34m(self, text)\u001B[0m\n\u001B[0;32m    193\u001B[0m \u001B[38;5;28;01mdef\u001B[39;00m \u001B[38;5;21mdo\u001B[39m(\u001B[38;5;28mself\u001B[39m, text):\n\u001B[1;32m--> 194\u001B[0m     \u001B[38;5;28;43mself\u001B[39;49m\u001B[38;5;241;43m.\u001B[39;49m\u001B[43m_update\u001B[49m\u001B[43m(\u001B[49m\u001B[43m)\u001B[49m\n\u001B[0;32m    195\u001B[0m     tk \u001B[38;5;241m=\u001B[39m \u001B[38;5;28mself\u001B[39m\u001B[38;5;241m.\u001B[39macquire(text)\n\u001B[0;32m    196\u001B[0m     \u001B[38;5;28;01mreturn\u001B[39;00m tk\n",
      "File \u001B[1;32m~\\PycharmProjects\\base_env\\.venv\\lib\\site-packages\\googletrans\\gtoken.py:62\u001B[0m, in \u001B[0;36mTokenAcquirer._update\u001B[1;34m(self)\u001B[0m\n\u001B[0;32m     59\u001B[0m     \u001B[38;5;28;01mreturn\u001B[39;00m\n\u001B[0;32m     61\u001B[0m \u001B[38;5;66;03m# this will be the same as python code after stripping out a reserved word 'var'\u001B[39;00m\n\u001B[1;32m---> 62\u001B[0m code \u001B[38;5;241m=\u001B[39m \u001B[38;5;28;43mself\u001B[39;49m\u001B[38;5;241;43m.\u001B[39;49m\u001B[43mRE_TKK\u001B[49m\u001B[38;5;241;43m.\u001B[39;49m\u001B[43msearch\u001B[49m\u001B[43m(\u001B[49m\u001B[43mr\u001B[49m\u001B[38;5;241;43m.\u001B[39;49m\u001B[43mtext\u001B[49m\u001B[43m)\u001B[49m\u001B[38;5;241;43m.\u001B[39;49m\u001B[43mgroup\u001B[49m(\u001B[38;5;241m1\u001B[39m)\u001B[38;5;241m.\u001B[39mreplace(\u001B[38;5;124m'\u001B[39m\u001B[38;5;124mvar \u001B[39m\u001B[38;5;124m'\u001B[39m, \u001B[38;5;124m'\u001B[39m\u001B[38;5;124m'\u001B[39m)\n\u001B[0;32m     63\u001B[0m \u001B[38;5;66;03m# unescape special ascii characters such like a \\x3d(=)\u001B[39;00m\n\u001B[0;32m     64\u001B[0m code \u001B[38;5;241m=\u001B[39m code\u001B[38;5;241m.\u001B[39mencode()\u001B[38;5;241m.\u001B[39mdecode(\u001B[38;5;124m'\u001B[39m\u001B[38;5;124municode-escape\u001B[39m\u001B[38;5;124m'\u001B[39m)\n",
      "\u001B[1;31mAttributeError\u001B[0m: 'NoneType' object has no attribute 'group'"
     ]
    }
   ],
   "execution_count": 102
  },
  {
   "metadata": {
    "ExecuteTime": {
     "end_time": "2024-12-19T19:32:44.679979Z",
     "start_time": "2024-12-19T19:32:27.970686Z"
    }
   },
   "cell_type": "code",
   "source": "!pip install pygoogletranslation",
   "id": "7c8d9d8e2d3bb81e",
   "outputs": [
    {
     "name": "stdout",
     "output_type": "stream",
     "text": [
      "Collecting pygoogletranslation\n",
      "  Downloading pygoogletranslation-2.0.6-py3-none-any.whl.metadata (15 kB)\n",
      "Requirement already satisfied: requests in c:\\users\\thuyl\\pycharmprojects\\base_env\\.venv\\lib\\site-packages (from pygoogletranslation) (2.32.3)\n",
      "Collecting unidecode (from pygoogletranslation)\n",
      "  Downloading Unidecode-1.3.8-py3-none-any.whl.metadata (13 kB)\n",
      "Collecting nltk (from pygoogletranslation)\n",
      "  Downloading nltk-3.9.1-py3-none-any.whl.metadata (2.9 kB)\n",
      "Collecting docx2txt (from pygoogletranslation)\n",
      "  Downloading docx2txt-0.8.tar.gz (2.8 kB)\n",
      "  Preparing metadata (setup.py): started\n",
      "  Preparing metadata (setup.py): finished with status 'done'\n",
      "Collecting PyPDF2 (from pygoogletranslation)\n",
      "  Downloading pypdf2-3.0.1-py3-none-any.whl.metadata (6.8 kB)\n",
      "Requirement already satisfied: click in c:\\users\\thuyl\\pycharmprojects\\base_env\\.venv\\lib\\site-packages (from nltk->pygoogletranslation) (8.1.7)\n",
      "Collecting joblib (from nltk->pygoogletranslation)\n",
      "  Downloading joblib-1.4.2-py3-none-any.whl.metadata (5.4 kB)\n",
      "Collecting regex>=2021.8.3 (from nltk->pygoogletranslation)\n",
      "  Downloading regex-2024.11.6-cp310-cp310-win_amd64.whl.metadata (41 kB)\n",
      "Collecting tqdm (from nltk->pygoogletranslation)\n",
      "  Downloading tqdm-4.67.1-py3-none-any.whl.metadata (57 kB)\n",
      "Requirement already satisfied: charset-normalizer<4,>=2 in c:\\users\\thuyl\\pycharmprojects\\base_env\\.venv\\lib\\site-packages (from requests->pygoogletranslation) (3.3.2)\n",
      "Requirement already satisfied: idna<4,>=2.5 in c:\\users\\thuyl\\pycharmprojects\\base_env\\.venv\\lib\\site-packages (from requests->pygoogletranslation) (2.10)\n",
      "Requirement already satisfied: urllib3<3,>=1.21.1 in c:\\users\\thuyl\\pycharmprojects\\base_env\\.venv\\lib\\site-packages (from requests->pygoogletranslation) (2.2.3)\n",
      "Requirement already satisfied: certifi>=2017.4.17 in c:\\users\\thuyl\\pycharmprojects\\base_env\\.venv\\lib\\site-packages (from requests->pygoogletranslation) (2024.8.30)\n",
      "Requirement already satisfied: colorama in c:\\users\\thuyl\\pycharmprojects\\base_env\\.venv\\lib\\site-packages (from click->nltk->pygoogletranslation) (0.4.6)\n",
      "Downloading pygoogletranslation-2.0.6-py3-none-any.whl (15 kB)\n",
      "Downloading nltk-3.9.1-py3-none-any.whl (1.5 MB)\n",
      "   ---------------------------------------- 0.0/1.5 MB ? eta -:--:--\n",
      "   -------------------- ------------------- 0.8/1.5 MB 5.6 MB/s eta 0:00:01\n",
      "   ---------------------------------------- 1.5/1.5 MB 6.6 MB/s eta 0:00:00\n",
      "Downloading pypdf2-3.0.1-py3-none-any.whl (232 kB)\n",
      "Downloading Unidecode-1.3.8-py3-none-any.whl (235 kB)\n",
      "Downloading regex-2024.11.6-cp310-cp310-win_amd64.whl (274 kB)\n",
      "Downloading joblib-1.4.2-py3-none-any.whl (301 kB)\n",
      "Downloading tqdm-4.67.1-py3-none-any.whl (78 kB)\n",
      "Building wheels for collected packages: docx2txt\n",
      "  Building wheel for docx2txt (setup.py): started\n",
      "  Building wheel for docx2txt (setup.py): finished with status 'done'\n",
      "  Created wheel for docx2txt: filename=docx2txt-0.8-py3-none-any.whl size=3973 sha256=7924858769d5a4649c7bf87639f62df47a252bedf304c557aba810945d90b9af\n",
      "  Stored in directory: c:\\users\\thuyl\\appdata\\local\\pip\\cache\\wheels\\22\\58\\cf\\093d0a6c3ecfdfc5f6ddd5524043b88e59a9a199cb02352966\n",
      "Successfully built docx2txt\n",
      "Installing collected packages: docx2txt, unidecode, tqdm, regex, PyPDF2, joblib, nltk, pygoogletranslation\n",
      "Successfully installed PyPDF2-3.0.1 docx2txt-0.8 joblib-1.4.2 nltk-3.9.1 pygoogletranslation-2.0.6 regex-2024.11.6 tqdm-4.67.1 unidecode-1.3.8\n"
     ]
    },
    {
     "name": "stderr",
     "output_type": "stream",
     "text": [
      "\n",
      "[notice] A new release of pip is available: 24.2 -> 24.3.1\n",
      "[notice] To update, run: python.exe -m pip install --upgrade pip\n"
     ]
    }
   ],
   "execution_count": 105
  },
  {
   "metadata": {
    "ExecuteTime": {
     "end_time": "2024-12-19T19:35:18.834435Z",
     "start_time": "2024-12-19T19:35:18.767509Z"
    }
   },
   "cell_type": "code",
   "source": [
    "from pygoogletranslation import Translator\n",
    "translator = Translator()\n",
    "translator.translate('Good Morning', dest='ta')"
   ],
   "id": "5251748ff9df6aeb",
   "outputs": [
    {
     "ename": "ImportError",
     "evalue": "cannot import name 'TranslatedPart' from 'googletrans.models' (C:\\Users\\thuyl\\PycharmProjects\\base_env\\.venv\\lib\\site-packages\\googletrans\\models.py)",
     "output_type": "error",
     "traceback": [
      "\u001B[1;31m---------------------------------------------------------------------------\u001B[0m",
      "\u001B[1;31mImportError\u001B[0m                               Traceback (most recent call last)",
      "Cell \u001B[1;32mIn[108], line 1\u001B[0m\n\u001B[1;32m----> 1\u001B[0m \u001B[38;5;28;01mfrom\u001B[39;00m \u001B[38;5;21;01mpygoogletranslation\u001B[39;00m \u001B[38;5;28;01mimport\u001B[39;00m Translator\n\u001B[0;32m      2\u001B[0m translator \u001B[38;5;241m=\u001B[39m Translator()\n\u001B[0;32m      3\u001B[0m translator\u001B[38;5;241m.\u001B[39mtranslate(\u001B[38;5;124m'\u001B[39m\u001B[38;5;124mGood Morning\u001B[39m\u001B[38;5;124m'\u001B[39m, dest\u001B[38;5;241m=\u001B[39m\u001B[38;5;124m'\u001B[39m\u001B[38;5;124mta\u001B[39m\u001B[38;5;124m'\u001B[39m)\n",
      "File \u001B[1;32m~\\PycharmProjects\\base_env\\.venv\\lib\\site-packages\\pygoogletranslation\\__init__.py:6\u001B[0m\n\u001B[0;32m      2\u001B[0m __all__ \u001B[38;5;241m=\u001B[39m \u001B[38;5;124m'\u001B[39m\u001B[38;5;124mTranslator\u001B[39m\u001B[38;5;124m'\u001B[39m,\n\u001B[0;32m      3\u001B[0m __version__ \u001B[38;5;241m=\u001B[39m \u001B[38;5;124m'\u001B[39m\u001B[38;5;124m2.0.6\u001B[39m\u001B[38;5;124m'\u001B[39m\n\u001B[1;32m----> 6\u001B[0m \u001B[38;5;28;01mfrom\u001B[39;00m \u001B[38;5;21;01mpygoogletranslation\u001B[39;00m\u001B[38;5;21;01m.\u001B[39;00m\u001B[38;5;21;01mtranslate\u001B[39;00m \u001B[38;5;28;01mimport\u001B[39;00m Translator\n\u001B[0;32m      7\u001B[0m \u001B[38;5;28;01mfrom\u001B[39;00m \u001B[38;5;21;01mpygoogletranslation\u001B[39;00m\u001B[38;5;21;01m.\u001B[39;00m\u001B[38;5;21;01mconstants\u001B[39;00m \u001B[38;5;28;01mimport\u001B[39;00m LANGCODES, LANGUAGES\n",
      "File \u001B[1;32m~\\PycharmProjects\\base_env\\.venv\\lib\\site-packages\\pygoogletranslation\\translate.py:14\u001B[0m\n\u001B[0;32m     12\u001B[0m \u001B[38;5;28;01mimport\u001B[39;00m \u001B[38;5;21;01mPyPDF2\u001B[39;00m\n\u001B[0;32m     13\u001B[0m \u001B[38;5;28;01mimport\u001B[39;00m \u001B[38;5;21;01mtime\u001B[39;00m\n\u001B[1;32m---> 14\u001B[0m \u001B[38;5;28;01mfrom\u001B[39;00m \u001B[38;5;21;01mpygoogletranslation\u001B[39;00m \u001B[38;5;28;01mimport\u001B[39;00m utils, urls\n\u001B[0;32m     15\u001B[0m \u001B[38;5;28;01mfrom\u001B[39;00m \u001B[38;5;21;01mpygoogletranslation\u001B[39;00m\u001B[38;5;21;01m.\u001B[39;00m\u001B[38;5;21;01mconstants\u001B[39;00m \u001B[38;5;28;01mimport\u001B[39;00m (\n\u001B[0;32m     16\u001B[0m     LANGCODES, LANGUAGES, RPCIDS\n\u001B[0;32m     17\u001B[0m )\n\u001B[0;32m     18\u001B[0m \u001B[38;5;28;01mfrom\u001B[39;00m \u001B[38;5;21;01mpygoogletranslation\u001B[39;00m \u001B[38;5;28;01mimport\u001B[39;00m gauthtoken\n",
      "File \u001B[1;32m~\\PycharmProjects\\base_env\\.venv\\lib\\site-packages\\pygoogletranslation\\utils.py:8\u001B[0m\n\u001B[0;32m      4\u001B[0m \u001B[38;5;28;01mimport\u001B[39;00m \u001B[38;5;21;01munidecode\u001B[39;00m\n\u001B[0;32m      5\u001B[0m \u001B[38;5;28;01mfrom\u001B[39;00m \u001B[38;5;21;01mpygoogletranslation\u001B[39;00m\u001B[38;5;21;01m.\u001B[39;00m\u001B[38;5;21;01mconstants\u001B[39;00m \u001B[38;5;28;01mimport\u001B[39;00m (\n\u001B[0;32m      6\u001B[0m     LANGCODES, LANGUAGES, RPCIDS\n\u001B[0;32m      7\u001B[0m )\n\u001B[1;32m----> 8\u001B[0m \u001B[38;5;28;01mfrom\u001B[39;00m \u001B[38;5;21;01mgoogletrans\u001B[39;00m\u001B[38;5;21;01m.\u001B[39;00m\u001B[38;5;21;01mmodels\u001B[39;00m \u001B[38;5;28;01mimport\u001B[39;00m TranslatedPart\n\u001B[0;32m     10\u001B[0m \u001B[38;5;28;01mdef\u001B[39;00m \u001B[38;5;21mformat_querystringlang\u001B[39m():\n\u001B[0;32m     11\u001B[0m     querystring \u001B[38;5;241m=\u001B[39m {\n\u001B[0;32m     12\u001B[0m         \u001B[38;5;124m\"\u001B[39m\u001B[38;5;124mclient\u001B[39m\u001B[38;5;124m\"\u001B[39m:\u001B[38;5;124m\"\u001B[39m\u001B[38;5;124mte\u001B[39m\u001B[38;5;124m\"\u001B[39m,\n\u001B[0;32m     13\u001B[0m     }\n",
      "\u001B[1;31mImportError\u001B[0m: cannot import name 'TranslatedPart' from 'googletrans.models' (C:\\Users\\thuyl\\PycharmProjects\\base_env\\.venv\\lib\\site-packages\\googletrans\\models.py)"
     ]
    }
   ],
   "execution_count": 108
  },
  {
   "metadata": {},
   "cell_type": "code",
   "outputs": [],
   "execution_count": null,
   "source": "",
   "id": "a5a200b114a87acc"
  }
 ],
 "metadata": {
  "kernelspec": {
   "display_name": "Python 3",
   "language": "python",
   "name": "python3"
  },
  "language_info": {
   "codemirror_mode": {
    "name": "ipython",
    "version": 2
   },
   "file_extension": ".py",
   "mimetype": "text/x-python",
   "name": "python",
   "nbconvert_exporter": "python",
   "pygments_lexer": "ipython2",
   "version": "2.7.6"
  }
 },
 "nbformat": 4,
 "nbformat_minor": 5
}
