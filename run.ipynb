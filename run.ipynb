{
 "cells": [
  {
   "cell_type": "code",
   "execution_count": 1,
   "metadata": {},
   "outputs": [
    {
     "name": "stdout",
     "output_type": "stream",
     "text": [
      "Collecting PyPDF2\n",
      "  Downloading pypdf2-3.0.1-py3-none-any.whl (232 kB)\n",
      "     ---------------------------------------- 0.0/232.6 kB ? eta -:--:--\n",
      "     ----- --------------------------------- 30.7/232.6 kB 1.3 MB/s eta 0:00:01\n",
      "     --------- --------------------------- 61.4/232.6 kB 656.4 kB/s eta 0:00:01\n",
      "     --------------- -------------------- 102.4/232.6 kB 837.8 kB/s eta 0:00:01\n",
      "     --------------------------------- ---- 204.8/232.6 kB 1.1 MB/s eta 0:00:01\n",
      "     -------------------------------------- 232.6/232.6 kB 1.2 MB/s eta 0:00:00\n",
      "Installing collected packages: PyPDF2\n",
      "Successfully installed PyPDF2-3.0.1\n"
     ]
    },
    {
     "name": "stderr",
     "output_type": "stream",
     "text": [
      "\n",
      "[notice] A new release of pip is available: 23.0.1 -> 24.3.1\n",
      "[notice] To update, run: python.exe -m pip install --upgrade pip\n"
     ]
    }
   ],
   "source": [
    "!pip install PyPDF2\n"
   ]
  },
  {
   "cell_type": "code",
   "execution_count": 1,
   "metadata": {},
   "outputs": [
    {
     "name": "stdout",
     "output_type": "stream",
     "text": [
      "[main 64a090c] Update updb\n",
      " Committer: Lê Thu Thủy PTCL <thuylt16@f88.vn>\n",
      "Your name and email address were configured automatically based\n",
      "on your username and hostname. Please check that they are accurate.\n",
      "You can suppress this message by setting them explicitly. Run the\n",
      "following command and follow the instructions in your editor to edit\n",
      "your configuration file:\n",
      "\n",
      "    git config --global --edit\n",
      "\n",
      "After doing this, you may fix the identity used for this commit with:\n",
      "\n",
      "    git commit --amend --reset-author\n",
      "\n",
      " 2 files changed, 1 insertion(+), 1 deletion(-)\n",
      " rename youglish_data.csv => web/youglish_data.csv (100%)\n"
     ]
    },
    {
     "name": "stderr",
     "output_type": "stream",
     "text": [
      "remote: \n",
      "remote: GitHub found 5 vulnerabilities on Thuylt185411/web_lor_tracy's default branch (1 high, 3 moderate, 1 low). To find out more, visit:        \n",
      "remote:      https://github.com/Thuylt185411/web_lor_tracy/security/dependabot        \n",
      "remote: \n",
      "To https://github.com/Thuylt185411/web_lor_tracy.git\n",
      "   9d26c06..64a090c  main -> main\n"
     ]
    }
   ],
   "source": [
    "!git add .\n",
    "!git commit -m \"Update updb\"\n",
    "!git push"
   ]
  },
  {
   "cell_type": "code",
   "execution_count": 4,
   "metadata": {},
   "outputs": [
    {
     "name": "stderr",
     "output_type": "stream",
     "text": [
      "remote: warning: See https://gh.io/lfs for more information.        \n",
      "remote: warning: File 7dcaf9c4d3374b4c1503b4be66ba1f38dcb78487 is 86.40 MB; this is larger than GitHub's recommended maximum file size of 50.00 MB        \n",
      "remote: warning: File 031e95d5d601e01d1d11cbf4b5e59cd5cc02fecc is 86.42 MB; this is larger than GitHub's recommended maximum file size of 50.00 MB        \n",
      "remote: warning: GH001: Large files detected. You may want to try Git Large File Storage - https://git-lfs.github.com.        \n",
      "remote: \n",
      "remote: GitHub found 2 vulnerabilities on Thuylt185411/web_lor_tracy's default branch (1 moderate, 1 low). To find out more, visit:        \n",
      "remote:      https://github.com/Thuylt185411/web_lor_tracy/security/dependabot        \n",
      "remote: \n",
      "To https://github.com/Thuylt185411/web_lor_tracy.git\n",
      " + 8d86686...2f190ef main -> main (forced update)\n"
     ]
    }
   ],
   "source": [
    "!git push -f origin main"
   ]
  },
  {
   "cell_type": "code",
   "execution_count": 2,
   "metadata": {},
   "outputs": [
    {
     "name": "stderr",
     "output_type": "stream",
     "text": [
      "C:\\Users\\thuylt16\\AppData\\Local\\Temp\\ipykernel_25252\\3101844725.py:27: FutureWarning: Passing literal json to 'read_json' is deprecated and will be removed in a future version. To read from a literal string, wrap it in a 'StringIO' object.\n",
      "  return pd.read_json(json_data, orient='records')\n"
     ]
    }
   ],
   "source": [
    "import redis\n",
    "import pandas as pd\n",
    "\n",
    "REDIS_CONFIG = {\n",
    "    'host': 'redis-11993.c228.us-central1-1.gce.redns.redis-cloud.com',\n",
    "    'port': 11993,\n",
    "    'decode_responses': True,\n",
    "    'username': \"default\",\n",
    "    'password': \"ObIEQ5XPlF8xNDac7U7yiN6gtBUFVVUp\",\n",
    "}\n",
    "redis_client = redis.Redis(**REDIS_CONFIG)\n",
    "\n",
    "def get_df_from_redis(key: str, redis_client: redis.Redis) -> pd.DataFrame | None:\n",
    "    \"\"\"\n",
    "    Retrieve DataFrame from Redis by key.\n",
    "    \n",
    "    Args:\n",
    "        key: Redis key to retrieve data\n",
    "        redis_client: Redis client instance\n",
    "    \n",
    "    Returns:\n",
    "        DataFrame if data exists, None otherwise\n",
    "    \"\"\"\n",
    "    \n",
    "    json_data = redis_client.get(key)\n",
    "    if json_data is not None:\n",
    "        return pd.read_json(json_data, orient='records')\n",
    "    return None\n",
    "    \n",
    "df = get_df_from_redis('youglish_data', redis_client)\n",
    "\n"
   ]
  },
  {
   "cell_type": "code",
   "execution_count": 4,
   "metadata": {},
   "outputs": [],
   "source": [
    "df.to_csv('youglish_data.csv', index=False)\n"
   ]
  },
  {
   "cell_type": "code",
   "execution_count": null,
   "metadata": {},
   "outputs": [],
   "source": []
  }
 ],
 "metadata": {
  "kernelspec": {
   "display_name": "Python 3",
   "language": "python",
   "name": "python3"
  },
  "language_info": {
   "codemirror_mode": {
    "name": "ipython",
    "version": 3
   },
   "file_extension": ".py",
   "mimetype": "text/x-python",
   "name": "python",
   "nbconvert_exporter": "python",
   "pygments_lexer": "ipython3",
   "version": "3.10.11"
  }
 },
 "nbformat": 4,
 "nbformat_minor": 2
}
